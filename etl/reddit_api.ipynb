{
 "cells": [
  {
   "cell_type": "markdown",
   "metadata": {},
   "source": [
    "### Connecting to the Reddit API"
   ]
  },
  {
   "cell_type": "code",
   "execution_count": 6,
   "metadata": {},
   "outputs": [],
   "source": [
    "# !pip install praw\n",
    "# !pip install pandas\n",
    "\n",
    "import praw\n",
    "\n",
    "# temporary credentials file for local development\n",
    "import secret\n",
    "import pandas as pd\n",
    "\n",
    "# This authentication provides read-only Reddit instances to the API\n",
    "# To get credentials, need to make a bot here: https://www.reddit.com/prefs/apps/\n",
    "\n",
    "# PRAW Documentation https://praw.readthedocs.io/en/stable/getting_started/quick_start.html#read-only-reddit-instances\n",
    "reddit = praw.Reddit(\n",
    "    client_id=secret.client_id,\n",
    "    client_secret=secret.client_secret,\n",
    "    user_agent=secret.user_agent\n",
    ")"
   ]
  },
  {
   "cell_type": "markdown",
   "metadata": {},
   "source": [
    "### Extracting The Top 10 Posts from r/computerscience (The first post is empty)"
   ]
  },
  {
   "cell_type": "code",
   "execution_count": 35,
   "metadata": {},
   "outputs": [],
   "source": [
    "# this endpoint returns a submissions object\n",
    "# https://praw.readthedocs.io/en/latest/code_overview/models/submission.html\n",
    "\n",
    "submissions = reddit.subreddit(\"computerscience\").hot(limit=100)\n",
    "\n",
    "# one for posts\n",
    "text = []\n",
    "author = []\n",
    "date = []\n",
    "title = []\n",
    "score = []\n",
    "upvote_ratio = []\n",
    "url = []\n",
    "num_comments = []\n",
    "\n",
    "\n",
    "for submission in submissions:\n",
    "    text.append(submission.selftext)\n",
    "    date.append(submission.created_utc)\n",
    "    author.append(submission.author)\n",
    "    score.append(submission.score)\n",
    "    upvote_ratio.append(submission.upvote_ratio)\n",
    "    title.append(submission.title)\n",
    "    url.append(submission.url)\n",
    "    num_comments.append(submission.num_comments)\n",
    "\n",
    "    "
   ]
  },
  {
   "cell_type": "code",
   "execution_count": 36,
   "metadata": {},
   "outputs": [
    {
     "data": {
      "text/html": [
       "<div>\n",
       "<style scoped>\n",
       "    .dataframe tbody tr th:only-of-type {\n",
       "        vertical-align: middle;\n",
       "    }\n",
       "\n",
       "    .dataframe tbody tr th {\n",
       "        vertical-align: top;\n",
       "    }\n",
       "\n",
       "    .dataframe thead th {\n",
       "        text-align: right;\n",
       "    }\n",
       "</style>\n",
       "<table border=\"1\" class=\"dataframe\">\n",
       "  <thead>\n",
       "    <tr style=\"text-align: right;\">\n",
       "      <th></th>\n",
       "      <th>created_utc</th>\n",
       "      <th>title</th>\n",
       "      <th>text</th>\n",
       "      <th>author</th>\n",
       "      <th>score</th>\n",
       "      <th>upvote_ratio</th>\n",
       "      <th>num_comments</th>\n",
       "      <th>url</th>\n",
       "    </tr>\n",
       "  </thead>\n",
       "  <tbody>\n",
       "    <tr>\n",
       "      <th>0</th>\n",
       "      <td>1.673829e+09</td>\n",
       "      <td>Looking for books, videos, or other resources ...</td>\n",
       "      <td></td>\n",
       "      <td>mobotsar</td>\n",
       "      <td>93</td>\n",
       "      <td>0.99</td>\n",
       "      <td>113</td>\n",
       "      <td>https://www.reddit.com/r/computerscience/comme...</td>\n",
       "    </tr>\n",
       "    <tr>\n",
       "      <th>1</th>\n",
       "      <td>1.686431e+09</td>\n",
       "      <td>/r/ComputerScience will be going dark starting...</td>\n",
       "      <td>## Update (June 16th, 2023):\\n\\nThis subreddit...</td>\n",
       "      <td>nuclear_splines</td>\n",
       "      <td>290</td>\n",
       "      <td>0.97</td>\n",
       "      <td>21</td>\n",
       "      <td>https://www.reddit.com/r/computerscience/comme...</td>\n",
       "    </tr>\n",
       "    <tr>\n",
       "      <th>2</th>\n",
       "      <td>1.686512e+09</td>\n",
       "      <td>How computers measure time</td>\n",
       "      <td>Can someone explain this to me? I've been told...</td>\n",
       "      <td>RunDiscombobulated67</td>\n",
       "      <td>86</td>\n",
       "      <td>0.98</td>\n",
       "      <td>27</td>\n",
       "      <td>https://www.reddit.com/r/computerscience/comme...</td>\n",
       "    </tr>\n",
       "    <tr>\n",
       "      <th>3</th>\n",
       "      <td>1.686514e+09</td>\n",
       "      <td>Question About Registers</td>\n",
       "      <td>Hello everyone. There is a misunderstanding I ...</td>\n",
       "      <td>mellowhorses</td>\n",
       "      <td>62</td>\n",
       "      <td>0.97</td>\n",
       "      <td>24</td>\n",
       "      <td>https://www.reddit.com/r/computerscience/comme...</td>\n",
       "    </tr>\n",
       "    <tr>\n",
       "      <th>4</th>\n",
       "      <td>1.686507e+09</td>\n",
       "      <td>Learning a new skill</td>\n",
       "      <td>Hey guys,\\n\\nWanted to ask what a good compute...</td>\n",
       "      <td>Haunting_Document142</td>\n",
       "      <td>30</td>\n",
       "      <td>0.90</td>\n",
       "      <td>38</td>\n",
       "      <td>https://www.reddit.com/r/computerscience/comme...</td>\n",
       "    </tr>\n",
       "  </tbody>\n",
       "</table>\n",
       "</div>"
      ],
      "text/plain": [
       "    created_utc                                              title  \\\n",
       "0  1.673829e+09  Looking for books, videos, or other resources ...   \n",
       "1  1.686431e+09  /r/ComputerScience will be going dark starting...   \n",
       "2  1.686512e+09                         How computers measure time   \n",
       "3  1.686514e+09                           Question About Registers   \n",
       "4  1.686507e+09                               Learning a new skill   \n",
       "\n",
       "                                                text                author  \\\n",
       "0                                                                 mobotsar   \n",
       "1  ## Update (June 16th, 2023):\\n\\nThis subreddit...       nuclear_splines   \n",
       "2  Can someone explain this to me? I've been told...  RunDiscombobulated67   \n",
       "3  Hello everyone. There is a misunderstanding I ...          mellowhorses   \n",
       "4  Hey guys,\\n\\nWanted to ask what a good compute...  Haunting_Document142   \n",
       "\n",
       "   score  upvote_ratio  num_comments  \\\n",
       "0     93          0.99           113   \n",
       "1    290          0.97            21   \n",
       "2     86          0.98            27   \n",
       "3     62          0.97            24   \n",
       "4     30          0.90            38   \n",
       "\n",
       "                                                 url  \n",
       "0  https://www.reddit.com/r/computerscience/comme...  \n",
       "1  https://www.reddit.com/r/computerscience/comme...  \n",
       "2  https://www.reddit.com/r/computerscience/comme...  \n",
       "3  https://www.reddit.com/r/computerscience/comme...  \n",
       "4  https://www.reddit.com/r/computerscience/comme...  "
      ]
     },
     "execution_count": 36,
     "metadata": {},
     "output_type": "execute_result"
    }
   ],
   "source": [
    "submissions_df = pd.DataFrame(\n",
    "    {\n",
    "        'created_utc': date,\n",
    "        'title': title,\n",
    "        'text': text,\n",
    "        'author': author,\n",
    "        'score': score,\n",
    "        'upvote_ratio': upvote_ratio,\n",
    "        'num_comments': num_comments,\n",
    "        'url': url\n",
    "    }\n",
    ")\n",
    "submissions_df.head()"
   ]
  },
  {
   "cell_type": "code",
   "execution_count": 37,
   "metadata": {},
   "outputs": [
    {
     "name": "stdout",
     "output_type": "stream",
     "text": [
      "<class 'pandas.core.frame.DataFrame'>\n",
      "RangeIndex: 100 entries, 0 to 99\n",
      "Data columns (total 8 columns):\n",
      " #   Column        Non-Null Count  Dtype  \n",
      "---  ------        --------------  -----  \n",
      " 0   created_utc   100 non-null    float64\n",
      " 1   title         100 non-null    object \n",
      " 2   text          100 non-null    object \n",
      " 3   author        97 non-null     object \n",
      " 4   score         100 non-null    int64  \n",
      " 5   upvote_ratio  100 non-null    float64\n",
      " 6   num_comments  100 non-null    int64  \n",
      " 7   url           100 non-null    object \n",
      "dtypes: float64(2), int64(2), object(4)\n",
      "memory usage: 6.4+ KB\n"
     ]
    }
   ],
   "source": [
    "submissions_df.info()"
   ]
  },
  {
   "cell_type": "code",
   "execution_count": 38,
   "metadata": {},
   "outputs": [],
   "source": [
    "submissions_df.to_csv('data/computerscience_hot_posts.csv')"
   ]
  }
 ],
 "metadata": {
  "kernelspec": {
   "display_name": "Python 3",
   "language": "python",
   "name": "python3"
  },
  "language_info": {
   "codemirror_mode": {
    "name": "ipython",
    "version": 3
   },
   "file_extension": ".py",
   "mimetype": "text/x-python",
   "name": "python",
   "nbconvert_exporter": "python",
   "pygments_lexer": "ipython3",
   "version": "3.10.2"
  }
 },
 "nbformat": 4,
 "nbformat_minor": 2
}
