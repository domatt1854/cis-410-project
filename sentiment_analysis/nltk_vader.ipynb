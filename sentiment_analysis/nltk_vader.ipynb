{
 "cells": [
  {
   "cell_type": "markdown",
   "metadata": {},
   "source": []
  },
  {
   "cell_type": "code",
   "execution_count": 60,
   "metadata": {},
   "outputs": [],
   "source": [
    "# ! pip install nltk numpy pandas matplotlib seaborn\n",
    "\n",
    "import re\n",
    "import string\n",
    "from nltk.tokenize import word_tokenize\n",
    "from nltk.corpus import stopwords\n",
    "from nltk.stem import PorterStemmer\n",
    "from nltk.tokenize import TweetTokenizer\n",
    "from nltk.tag import pos_tag\n",
    "from nltk.chunk import ne_chunk\n",
    "import numpy as np\n",
    "import pandas as pd\n",
    "import matplotlib.pyplot as plt\n",
    "import seaborn as sns\n",
    "\n",
    "nltk.download('punkt')\n",
    "nltk.download('averaged_perceptron_tagger')\n",
    "nltk.download('maxent_ne_chunker')\n",
    "nltk.download('words')"
   ]
  },
  {
   "cell_type": "code",
   "execution_count": 4,
   "metadata": {},
   "outputs": [
    {
     "data": {
      "text/html": [
       "<div>\n",
       "<style scoped>\n",
       "    .dataframe tbody tr th:only-of-type {\n",
       "        vertical-align: middle;\n",
       "    }\n",
       "\n",
       "    .dataframe tbody tr th {\n",
       "        vertical-align: top;\n",
       "    }\n",
       "\n",
       "    .dataframe thead th {\n",
       "        text-align: right;\n",
       "    }\n",
       "</style>\n",
       "<table border=\"1\" class=\"dataframe\">\n",
       "  <thead>\n",
       "    <tr style=\"text-align: right;\">\n",
       "      <th></th>\n",
       "      <th>Unnamed: 0</th>\n",
       "      <th>created_utc</th>\n",
       "      <th>title</th>\n",
       "      <th>text</th>\n",
       "      <th>author</th>\n",
       "      <th>score</th>\n",
       "      <th>upvote_ratio</th>\n",
       "      <th>num_comments</th>\n",
       "      <th>url</th>\n",
       "    </tr>\n",
       "  </thead>\n",
       "  <tbody>\n",
       "    <tr>\n",
       "      <th>0</th>\n",
       "      <td>0</td>\n",
       "      <td>1.673829e+09</td>\n",
       "      <td>Looking for books, videos, or other resources ...</td>\n",
       "      <td>NaN</td>\n",
       "      <td>mobotsar</td>\n",
       "      <td>93</td>\n",
       "      <td>0.99</td>\n",
       "      <td>113</td>\n",
       "      <td>https://www.reddit.com/r/computerscience/comme...</td>\n",
       "    </tr>\n",
       "    <tr>\n",
       "      <th>1</th>\n",
       "      <td>1</td>\n",
       "      <td>1.686431e+09</td>\n",
       "      <td>/r/ComputerScience will be going dark starting...</td>\n",
       "      <td>## Update (June 16th, 2023):\\n\\nThis subreddit...</td>\n",
       "      <td>nuclear_splines</td>\n",
       "      <td>290</td>\n",
       "      <td>0.97</td>\n",
       "      <td>21</td>\n",
       "      <td>https://www.reddit.com/r/computerscience/comme...</td>\n",
       "    </tr>\n",
       "    <tr>\n",
       "      <th>2</th>\n",
       "      <td>2</td>\n",
       "      <td>1.686512e+09</td>\n",
       "      <td>How computers measure time</td>\n",
       "      <td>Can someone explain this to me? I've been told...</td>\n",
       "      <td>RunDiscombobulated67</td>\n",
       "      <td>86</td>\n",
       "      <td>0.98</td>\n",
       "      <td>27</td>\n",
       "      <td>https://www.reddit.com/r/computerscience/comme...</td>\n",
       "    </tr>\n",
       "    <tr>\n",
       "      <th>3</th>\n",
       "      <td>3</td>\n",
       "      <td>1.686514e+09</td>\n",
       "      <td>Question About Registers</td>\n",
       "      <td>Hello everyone. There is a misunderstanding I ...</td>\n",
       "      <td>mellowhorses</td>\n",
       "      <td>62</td>\n",
       "      <td>0.97</td>\n",
       "      <td>24</td>\n",
       "      <td>https://www.reddit.com/r/computerscience/comme...</td>\n",
       "    </tr>\n",
       "    <tr>\n",
       "      <th>4</th>\n",
       "      <td>4</td>\n",
       "      <td>1.686507e+09</td>\n",
       "      <td>Learning a new skill</td>\n",
       "      <td>Hey guys,\\n\\nWanted to ask what a good compute...</td>\n",
       "      <td>Haunting_Document142</td>\n",
       "      <td>30</td>\n",
       "      <td>0.90</td>\n",
       "      <td>38</td>\n",
       "      <td>https://www.reddit.com/r/computerscience/comme...</td>\n",
       "    </tr>\n",
       "  </tbody>\n",
       "</table>\n",
       "</div>"
      ],
      "text/plain": [
       "   Unnamed: 0   created_utc  \\\n",
       "0           0  1.673829e+09   \n",
       "1           1  1.686431e+09   \n",
       "2           2  1.686512e+09   \n",
       "3           3  1.686514e+09   \n",
       "4           4  1.686507e+09   \n",
       "\n",
       "                                               title  \\\n",
       "0  Looking for books, videos, or other resources ...   \n",
       "1  /r/ComputerScience will be going dark starting...   \n",
       "2                         How computers measure time   \n",
       "3                           Question About Registers   \n",
       "4                               Learning a new skill   \n",
       "\n",
       "                                                text                author  \\\n",
       "0                                                NaN              mobotsar   \n",
       "1  ## Update (June 16th, 2023):\\n\\nThis subreddit...       nuclear_splines   \n",
       "2  Can someone explain this to me? I've been told...  RunDiscombobulated67   \n",
       "3  Hello everyone. There is a misunderstanding I ...          mellowhorses   \n",
       "4  Hey guys,\\n\\nWanted to ask what a good compute...  Haunting_Document142   \n",
       "\n",
       "   score  upvote_ratio  num_comments  \\\n",
       "0     93          0.99           113   \n",
       "1    290          0.97            21   \n",
       "2     86          0.98            27   \n",
       "3     62          0.97            24   \n",
       "4     30          0.90            38   \n",
       "\n",
       "                                                 url  \n",
       "0  https://www.reddit.com/r/computerscience/comme...  \n",
       "1  https://www.reddit.com/r/computerscience/comme...  \n",
       "2  https://www.reddit.com/r/computerscience/comme...  \n",
       "3  https://www.reddit.com/r/computerscience/comme...  \n",
       "4  https://www.reddit.com/r/computerscience/comme...  "
      ]
     },
     "execution_count": 4,
     "metadata": {},
     "output_type": "execute_result"
    }
   ],
   "source": [
    "df = pd.read_csv('raw_data/computerscience_hot_posts.csv')\n",
    "\n",
    "df.head()"
   ]
  },
  {
   "cell_type": "code",
   "execution_count": 7,
   "metadata": {},
   "outputs": [
    {
     "name": "stdout",
     "output_type": "stream",
     "text": [
      "<class 'pandas.core.frame.DataFrame'>\n",
      "RangeIndex: 100 entries, 0 to 99\n",
      "Data columns (total 9 columns):\n",
      " #   Column        Non-Null Count  Dtype  \n",
      "---  ------        --------------  -----  \n",
      " 0   Unnamed: 0    100 non-null    int64  \n",
      " 1   created_utc   100 non-null    float64\n",
      " 2   title         100 non-null    object \n",
      " 3   text          85 non-null     object \n",
      " 4   author        97 non-null     object \n",
      " 5   score         100 non-null    int64  \n",
      " 6   upvote_ratio  100 non-null    float64\n",
      " 7   num_comments  100 non-null    int64  \n",
      " 8   url           100 non-null    object \n",
      "dtypes: float64(2), int64(3), object(4)\n",
      "memory usage: 7.2+ KB\n"
     ]
    }
   ],
   "source": [
    "df.info()"
   ]
  },
  {
   "cell_type": "markdown",
   "metadata": {},
   "source": [
    "### EDA"
   ]
  },
  {
   "cell_type": "code",
   "execution_count": 20,
   "metadata": {},
   "outputs": [
    {
     "data": {
      "text/plain": [
       "count    100.000000\n",
       "mean      29.720000\n",
       "std       77.139658\n",
       "min        0.000000\n",
       "25%        1.000000\n",
       "50%        8.000000\n",
       "75%       30.250000\n",
       "max      691.000000\n",
       "Name: score, dtype: float64"
      ]
     },
     "execution_count": 20,
     "metadata": {},
     "output_type": "execute_result"
    }
   ],
   "source": [
    "df['score'].describe()"
   ]
  },
  {
   "cell_type": "code",
   "execution_count": 24,
   "metadata": {},
   "outputs": [
    {
     "data": {
      "text/plain": [
       "Text(0.5, 1.0, 'Half of The Posts have less than or equal 8 Upvotes')"
      ]
     },
     "execution_count": 24,
     "metadata": {},
     "output_type": "execute_result"
    },
    {
     "data": {
      "image/png": "[encoded data removed]",
      "text/plain": [
       "<Figure size 640x480 with 1 Axes>"
      ]
     },
     "metadata": {},
     "output_type": "display_data"
    }
   ],
   "source": [
    "sns.histplot(pd.DataFrame(df['score'].value_counts(10)), x='score', binwidth=25).set_title(\"Half of The Posts have less than or equal 8 Upvotes\")\n"
   ]
  },
  {
   "cell_type": "code",
   "execution_count": 29,
   "metadata": {},
   "outputs": [
    {
     "data": {
      "text/plain": [
       "author\n",
       "albeXL                11\n",
       "luciferreeves          2\n",
       "Squixell               2\n",
       "shai-ber               2\n",
       "HeadClicker52          2\n",
       "PoliteRuleFollower     2\n",
       "veterinarysite         2\n",
       "jarekduda              1\n",
       "rojoroboto             1\n",
       "tentmap                1\n",
       "Name: count, dtype: int64"
      ]
     },
     "execution_count": 29,
     "metadata": {},
     "output_type": "execute_result"
    }
   ],
   "source": [
    "df['author'].value_counts(normalize=False).head(10)"
   ]
  },
  {
   "cell_type": "markdown",
   "metadata": {},
   "source": [
    "### Text Pre-Processing"
   ]
  },
  {
   "cell_type": "code",
   "execution_count": 32,
   "metadata": {},
   "outputs": [
    {
     "name": "stdout",
     "output_type": "stream",
     "text": [
      "I'm interested in many fields of CS so any event that you think is interesting, I will be looking it up. Though currently, I am interested the most in 3D graphics generation, data visualization, game dev, AR/VR and AI. I also have some experience in web dev, but not as much interest(still, will also be looking them up at least once).\n",
      "\n",
      "Oh and an extra question: Which subreddit(s) would you recommend for being involved in and informed about these events?\n"
     ]
    }
   ],
   "source": [
    "example_text = df['text'][5]\n",
    "print(example_text)"
   ]
  },
  {
   "cell_type": "code",
   "execution_count": 45,
   "metadata": {},
   "outputs": [
    {
     "data": {
      "text/plain": [
       "['I',\n",
       " \"'m\",\n",
       " 'interested',\n",
       " 'in',\n",
       " 'many',\n",
       " 'fields',\n",
       " 'of',\n",
       " 'CS',\n",
       " 'so',\n",
       " 'any',\n",
       " 'event',\n",
       " 'that',\n",
       " 'you',\n",
       " 'think',\n",
       " 'is']"
      ]
     },
     "execution_count": 45,
     "metadata": {},
     "output_type": "execute_result"
    }
   ],
   "source": [
    "tokens = word_tokenize(str(example_text))\n",
    "tokens[:15]"
   ]
  },
  {
   "cell_type": "code",
   "execution_count": 53,
   "metadata": {},
   "outputs": [
    {
     "data": {
      "text/plain": [
       "[('I', 'PRP'),\n",
       " (\"'m\", 'VBP'),\n",
       " ('interested', 'JJ'),\n",
       " ('in', 'IN'),\n",
       " ('many', 'JJ'),\n",
       " ('fields', 'NNS'),\n",
       " ('of', 'IN'),\n",
       " ('CS', 'NNP'),\n",
       " ('so', 'IN'),\n",
       " ('any', 'DT'),\n",
       " ('event', 'NN'),\n",
       " ('that', 'IN'),\n",
       " ('you', 'PRP'),\n",
       " ('think', 'VBP'),\n",
       " ('is', 'VBZ')]"
      ]
     },
     "execution_count": 53,
     "metadata": {},
     "output_type": "execute_result"
    }
   ],
   "source": [
    "tagged = pos_tag(tokens)\n",
    "tagged[:15]"
   ]
  },
  {
   "cell_type": "code",
   "execution_count": 58,
   "metadata": {},
   "outputs": [
    {
     "name": "stdout",
     "output_type": "stream",
     "text": [
      "(S\n",
      "  I/PRP\n",
      "  'm/VBP\n",
      "  interested/JJ\n",
      "  in/IN\n",
      "  many/JJ\n",
      "  fields/NNS\n",
      "  of/IN\n",
      "  CS/NNP\n",
      "  so/IN\n",
      "  any/DT\n",
      "  event/NN\n",
      "  that/IN\n",
      "  you/PRP\n",
      "  think/VBP\n",
      "  is/VBZ\n",
      "  interesting/JJ\n",
      "  ,/,\n",
      "  I/PRP\n",
      "  will/MD\n",
      "  be/VB\n",
      "  looking/VBG\n",
      "  it/PRP\n",
      "  up/RP\n",
      "  ./.\n",
      "  Though/NNP\n",
      "  currently/RB\n",
      "  ,/,\n",
      "  I/PRP\n",
      "  am/VBP\n",
      "  interested/JJ\n",
      "  the/DT\n",
      "  most/RBS\n",
      "  in/IN\n",
      "  3D/CD\n",
      "  graphics/NNS\n",
      "  generation/NN\n",
      "  ,/,\n",
      "  data/NNS\n",
      "  visualization/NN\n",
      "  ,/,\n",
      "  game/NN\n",
      "  dev/NN\n",
      "  ,/,\n",
      "  AR/VR/NNP\n",
      "  and/CC\n",
      "  (ORGANIZATION AI/NNP)\n",
      "  ./.\n",
      "  I/PRP\n",
      "  also/RB\n",
      "  have/VBP\n",
      "  some/DT\n",
      "  experience/NN\n",
      "  in/IN\n",
      "  web/NN\n",
      "  dev/NN\n",
      "  ,/,\n",
      "  but/CC\n",
      "  not/RB\n",
      "  as/RB\n",
      "  much/JJ\n",
      "  interest/NN\n",
      "  (/(\n",
      "  still/RB\n",
      "  ,/,\n",
      "  will/MD\n",
      "  also/RB\n",
      "  be/VB\n",
      "  looking/VBG\n",
      "  them/PRP\n",
      "  up/RP\n",
      "  at/IN\n",
      "  least/JJS\n",
      "  once/RB\n",
      "  )/)\n",
      "  ./.\n",
      "  Oh/UH\n",
      "  and/CC\n",
      "  an/DT\n",
      "  extra/JJ\n",
      "  question/NN\n",
      "  :/:\n",
      "  Which/JJ\n",
      "  subreddit/NN\n",
      "  (/(\n",
      "  s/NN\n",
      "  )/)\n",
      "  would/MD\n",
      "  you/PRP\n",
      "  recommend/VB\n",
      "  for/IN\n",
      "  being/VBG\n",
      "  involved/VBN\n",
      "  in/IN\n",
      "  and/CC\n",
      "  informed/VBD\n",
      "  about/IN\n",
      "  these/DT\n",
      "  events/NNS\n",
      "  ?/.)\n"
     ]
    }
   ],
   "source": [
    "entities = ne_chunk(tagged)\n",
    "entities.pprint()"
   ]
  },
  {
   "cell_type": "markdown",
   "metadata": {},
   "source": [
    "### VADER Sentiment Analysis"
   ]
  },
  {
   "cell_type": "code",
   "execution_count": null,
   "metadata": {},
   "outputs": [],
   "source": []
  }
 ],
 "metadata": {
  "kernelspec": {
   "display_name": ".venv",
   "language": "python",
   "name": "python3"
  },
  "language_info": {
   "codemirror_mode": {
    "name": "ipython",
    "version": 3
   },
   "file_extension": ".py",
   "mimetype": "text/x-python",
   "name": "python",
   "nbconvert_exporter": "python",
   "pygments_lexer": "ipython3",
   "version": "3.10.2"
  }
 },
 "nbformat": 4,
 "nbformat_minor": 2
}
