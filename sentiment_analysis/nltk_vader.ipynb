{
 "cells": [
  {
   "cell_type": "markdown",
   "metadata": {},
   "source": [
    "##### Code Provided by the tutorial https://youtu.be/QpzMWQvxXWk?si=GeP6Sp7PhkLO6zPa\n",
    "##### This notebook is only used for learning the possibilities of the NLTK library\n",
    "##### Following a tutorial"
   ]
  },
  {
   "cell_type": "code",
   "execution_count": 7,
   "metadata": {},
   "outputs": [
    {
     "name": "stderr",
     "output_type": "stream",
     "text": [
      "[nltk_data] Downloading package punkt to\n",
      "[nltk_data]     C:\\Users\\timo7\\AppData\\Roaming\\nltk_data...\n",
      "[nltk_data]   Package punkt is already up-to-date!\n",
      "[nltk_data] Downloading package averaged_perceptron_tagger to\n",
      "[nltk_data]     C:\\Users\\timo7\\AppData\\Roaming\\nltk_data...\n",
      "[nltk_data]   Package averaged_perceptron_tagger is already up-to-\n",
      "[nltk_data]       date!\n",
      "[nltk_data] Downloading package maxent_ne_chunker to\n",
      "[nltk_data]     C:\\Users\\timo7\\AppData\\Roaming\\nltk_data...\n",
      "[nltk_data]   Package maxent_ne_chunker is already up-to-date!\n",
      "[nltk_data] Downloading package words to\n",
      "[nltk_data]     C:\\Users\\timo7\\AppData\\Roaming\\nltk_data...\n",
      "[nltk_data]   Package words is already up-to-date!\n",
      "[nltk_data] Downloading package vader_lexicon to\n",
      "[nltk_data]     C:\\Users\\timo7\\AppData\\Roaming\\nltk_data...\n"
     ]
    },
    {
     "data": {
      "text/plain": [
       "True"
      ]
     },
     "execution_count": 7,
     "metadata": {},
     "output_type": "execute_result"
    }
   ],
   "source": [
    "# ! pip install nltk numpy pandas matplotlib seaborn\n",
    "\n",
    "import re\n",
    "import string\n",
    "import nltk \n",
    "from nltk.tokenize import word_tokenize\n",
    "from nltk.corpus import stopwords\n",
    "from nltk.stem import PorterStemmer\n",
    "from nltk.tokenize import TweetTokenizer\n",
    "from nltk.tag import pos_tag\n",
    "from nltk.chunk import ne_chunk\n",
    "import numpy as np\n",
    "import pandas as pd\n",
    "import matplotlib.pyplot as plt\n",
    "import seaborn as sns\n",
    "\n",
    "nltk.download('punkt')\n",
    "nltk.download('averaged_perceptron_tagger')\n",
    "nltk.download('maxent_ne_chunker')\n",
    "nltk.download('words')\n",
    "nltk.download('vader_lexicon')"
   ]
  },
  {
   "cell_type": "code",
   "execution_count": 9,
   "metadata": {},
   "outputs": [
    {
     "data": {
      "text/html": [
       "<div>\n",
       "<style scoped>\n",
       "    .dataframe tbody tr th:only-of-type {\n",
       "        vertical-align: middle;\n",
       "    }\n",
       "\n",
       "    .dataframe tbody tr th {\n",
       "        vertical-align: top;\n",
       "    }\n",
       "\n",
       "    .dataframe thead th {\n",
       "        text-align: right;\n",
       "    }\n",
       "</style>\n",
       "<table border=\"1\" class=\"dataframe\">\n",
       "  <thead>\n",
       "    <tr style=\"text-align: right;\">\n",
       "      <th></th>\n",
       "      <th>Unnamed: 0</th>\n",
       "      <th>created_utc</th>\n",
       "      <th>title</th>\n",
       "      <th>text</th>\n",
       "      <th>author</th>\n",
       "      <th>score</th>\n",
       "      <th>upvote_ratio</th>\n",
       "      <th>num_comments</th>\n",
       "      <th>url</th>\n",
       "    </tr>\n",
       "  </thead>\n",
       "  <tbody>\n",
       "    <tr>\n",
       "      <th>0</th>\n",
       "      <td>0</td>\n",
       "      <td>1.673829e+09</td>\n",
       "      <td>Looking for books, videos, or other resources ...</td>\n",
       "      <td>NaN</td>\n",
       "      <td>mobotsar</td>\n",
       "      <td>93</td>\n",
       "      <td>0.99</td>\n",
       "      <td>113</td>\n",
       "      <td>https://www.reddit.com/r/computerscience/comme...</td>\n",
       "    </tr>\n",
       "    <tr>\n",
       "      <th>1</th>\n",
       "      <td>1</td>\n",
       "      <td>1.686431e+09</td>\n",
       "      <td>/r/ComputerScience will be going dark starting...</td>\n",
       "      <td>## Update (June 16th, 2023):\\n\\nThis subreddit...</td>\n",
       "      <td>nuclear_splines</td>\n",
       "      <td>290</td>\n",
       "      <td>0.97</td>\n",
       "      <td>21</td>\n",
       "      <td>https://www.reddit.com/r/computerscience/comme...</td>\n",
       "    </tr>\n",
       "    <tr>\n",
       "      <th>2</th>\n",
       "      <td>2</td>\n",
       "      <td>1.686512e+09</td>\n",
       "      <td>How computers measure time</td>\n",
       "      <td>Can someone explain this to me? I've been told...</td>\n",
       "      <td>RunDiscombobulated67</td>\n",
       "      <td>86</td>\n",
       "      <td>0.98</td>\n",
       "      <td>27</td>\n",
       "      <td>https://www.reddit.com/r/computerscience/comme...</td>\n",
       "    </tr>\n",
       "    <tr>\n",
       "      <th>3</th>\n",
       "      <td>3</td>\n",
       "      <td>1.686514e+09</td>\n",
       "      <td>Question About Registers</td>\n",
       "      <td>Hello everyone. There is a misunderstanding I ...</td>\n",
       "      <td>mellowhorses</td>\n",
       "      <td>62</td>\n",
       "      <td>0.97</td>\n",
       "      <td>24</td>\n",
       "      <td>https://www.reddit.com/r/computerscience/comme...</td>\n",
       "    </tr>\n",
       "    <tr>\n",
       "      <th>4</th>\n",
       "      <td>4</td>\n",
       "      <td>1.686507e+09</td>\n",
       "      <td>Learning a new skill</td>\n",
       "      <td>Hey guys,\\n\\nWanted to ask what a good compute...</td>\n",
       "      <td>Haunting_Document142</td>\n",
       "      <td>30</td>\n",
       "      <td>0.90</td>\n",
       "      <td>38</td>\n",
       "      <td>https://www.reddit.com/r/computerscience/comme...</td>\n",
       "    </tr>\n",
       "  </tbody>\n",
       "</table>\n",
       "</div>"
      ],
      "text/plain": [
       "   Unnamed: 0   created_utc  \\\n",
       "0           0  1.673829e+09   \n",
       "1           1  1.686431e+09   \n",
       "2           2  1.686512e+09   \n",
       "3           3  1.686514e+09   \n",
       "4           4  1.686507e+09   \n",
       "\n",
       "                                               title  \\\n",
       "0  Looking for books, videos, or other resources ...   \n",
       "1  /r/ComputerScience will be going dark starting...   \n",
       "2                         How computers measure time   \n",
       "3                           Question About Registers   \n",
       "4                               Learning a new skill   \n",
       "\n",
       "                                                text                author  \\\n",
       "0                                                NaN              mobotsar   \n",
       "1  ## Update (June 16th, 2023):\\n\\nThis subreddit...       nuclear_splines   \n",
       "2  Can someone explain this to me? I've been told...  RunDiscombobulated67   \n",
       "3  Hello everyone. There is a misunderstanding I ...          mellowhorses   \n",
       "4  Hey guys,\\n\\nWanted to ask what a good compute...  Haunting_Document142   \n",
       "\n",
       "   score  upvote_ratio  num_comments  \\\n",
       "0     93          0.99           113   \n",
       "1    290          0.97            21   \n",
       "2     86          0.98            27   \n",
       "3     62          0.97            24   \n",
       "4     30          0.90            38   \n",
       "\n",
       "                                                 url  \n",
       "0  https://www.reddit.com/r/computerscience/comme...  \n",
       "1  https://www.reddit.com/r/computerscience/comme...  \n",
       "2  https://www.reddit.com/r/computerscience/comme...  \n",
       "3  https://www.reddit.com/r/computerscience/comme...  \n",
       "4  https://www.reddit.com/r/computerscience/comme...  "
      ]
     },
     "execution_count": 9,
     "metadata": {},
     "output_type": "execute_result"
    }
   ],
   "source": [
    "df = pd.read_csv('raw_data/computerscience_hot_posts.csv')\n",
    "\n",
    "df.head()"
   ]
  },
  {
   "cell_type": "code",
   "execution_count": 10,
   "metadata": {},
   "outputs": [
    {
     "name": "stdout",
     "output_type": "stream",
     "text": [
      "<class 'pandas.core.frame.DataFrame'>\n",
      "RangeIndex: 100 entries, 0 to 99\n",
      "Data columns (total 9 columns):\n",
      " #   Column        Non-Null Count  Dtype  \n",
      "---  ------        --------------  -----  \n",
      " 0   Unnamed: 0    100 non-null    int64  \n",
      " 1   created_utc   100 non-null    float64\n",
      " 2   title         100 non-null    object \n",
      " 3   text          85 non-null     object \n",
      " 4   author        97 non-null     object \n",
      " 5   score         100 non-null    int64  \n",
      " 6   upvote_ratio  100 non-null    float64\n",
      " 7   num_comments  100 non-null    int64  \n",
      " 8   url           100 non-null    object \n",
      "dtypes: float64(2), int64(3), object(4)\n",
      "memory usage: 7.2+ KB\n"
     ]
    }
   ],
   "source": [
    "df.info()"
   ]
  },
  {
   "cell_type": "markdown",
   "metadata": {},
   "source": [
    "### EDA"
   ]
  },
  {
   "cell_type": "code",
   "execution_count": 11,
   "metadata": {},
   "outputs": [
    {
     "data": {
      "text/plain": [
       "count    100.000000\n",
       "mean      29.720000\n",
       "std       77.139658\n",
       "min        0.000000\n",
       "25%        1.000000\n",
       "50%        8.000000\n",
       "75%       30.250000\n",
       "max      691.000000\n",
       "Name: score, dtype: float64"
      ]
     },
     "execution_count": 11,
     "metadata": {},
     "output_type": "execute_result"
    }
   ],
   "source": [
    "df['score'].describe()"
   ]
  },
  {
   "cell_type": "code",
   "execution_count": 12,
   "metadata": {},
   "outputs": [
    {
     "data": {
      "text/plain": [
       "Text(0.5, 1.0, 'Half of The Posts have less than or equal 8 Upvotes')"
      ]
     },
     "execution_count": 12,
     "metadata": {},
     "output_type": "execute_result"
    },
    {
     "data": {
      "image/png": "[encoded data removed]",
      "text/plain": [
       "<Figure size 640x480 with 1 Axes>"
      ]
     },
     "metadata": {},
     "output_type": "display_data"
    }
   ],
   "source": [
    "sns.histplot(pd.DataFrame(df['score'].value_counts(10)), x='score', binwidth=25).set_title(\"Half of The Posts have less than or equal 8 Upvotes\")\n"
   ]
  },
  {
   "cell_type": "code",
   "execution_count": 13,
   "metadata": {},
   "outputs": [
    {
     "data": {
      "text/plain": [
       "author\n",
       "albeXL                11\n",
       "luciferreeves          2\n",
       "Squixell               2\n",
       "shai-ber               2\n",
       "HeadClicker52          2\n",
       "PoliteRuleFollower     2\n",
       "veterinarysite         2\n",
       "jarekduda              1\n",
       "rojoroboto             1\n",
       "tentmap                1\n",
       "Name: count, dtype: int64"
      ]
     },
     "execution_count": 13,
     "metadata": {},
     "output_type": "execute_result"
    }
   ],
   "source": [
    "df['author'].value_counts(normalize=False).head(10)"
   ]
  },
  {
   "cell_type": "markdown",
   "metadata": {},
   "source": [
    "### Text Pre-Processing"
   ]
  },
  {
   "cell_type": "code",
   "execution_count": 14,
   "metadata": {},
   "outputs": [
    {
     "name": "stdout",
     "output_type": "stream",
     "text": [
      "I'm interested in many fields of CS so any event that you think is interesting, I will be looking it up. Though currently, I am interested the most in 3D graphics generation, data visualization, game dev, AR/VR and AI. I also have some experience in web dev, but not as much interest(still, will also be looking them up at least once).\n",
      "\n",
      "Oh and an extra question: Which subreddit(s) would you recommend for being involved in and informed about these events?\n"
     ]
    }
   ],
   "source": [
    "example_text = df['text'][5]\n",
    "print(example_text)"
   ]
  },
  {
   "cell_type": "code",
   "execution_count": 15,
   "metadata": {},
   "outputs": [
    {
     "data": {
      "text/plain": [
       "['I',\n",
       " \"'m\",\n",
       " 'interested',\n",
       " 'in',\n",
       " 'many',\n",
       " 'fields',\n",
       " 'of',\n",
       " 'CS',\n",
       " 'so',\n",
       " 'any',\n",
       " 'event',\n",
       " 'that',\n",
       " 'you',\n",
       " 'think',\n",
       " 'is']"
      ]
     },
     "execution_count": 15,
     "metadata": {},
     "output_type": "execute_result"
    }
   ],
   "source": [
    "tokens = word_tokenize(str(example_text))\n",
    "tokens[:15]"
   ]
  },
  {
   "cell_type": "code",
   "execution_count": 16,
   "metadata": {},
   "outputs": [
    {
     "data": {
      "text/plain": [
       "[('I', 'PRP'),\n",
       " (\"'m\", 'VBP'),\n",
       " ('interested', 'JJ'),\n",
       " ('in', 'IN'),\n",
       " ('many', 'JJ'),\n",
       " ('fields', 'NNS'),\n",
       " ('of', 'IN'),\n",
       " ('CS', 'NNP'),\n",
       " ('so', 'IN'),\n",
       " ('any', 'DT'),\n",
       " ('event', 'NN'),\n",
       " ('that', 'IN'),\n",
       " ('you', 'PRP'),\n",
       " ('think', 'VBP'),\n",
       " ('is', 'VBZ')]"
      ]
     },
     "execution_count": 16,
     "metadata": {},
     "output_type": "execute_result"
    }
   ],
   "source": [
    "tagged = pos_tag(tokens)\n",
    "tagged[:15]"
   ]
  },
  {
   "cell_type": "code",
   "execution_count": 17,
   "metadata": {},
   "outputs": [
    {
     "name": "stdout",
     "output_type": "stream",
     "text": [
      "(S\n",
      "  I/PRP\n",
      "  'm/VBP\n",
      "  interested/JJ\n",
      "  in/IN\n",
      "  many/JJ\n",
      "  fields/NNS\n",
      "  of/IN\n",
      "  CS/NNP\n",
      "  so/IN\n",
      "  any/DT\n",
      "  event/NN\n",
      "  that/IN\n",
      "  you/PRP\n",
      "  think/VBP\n",
      "  is/VBZ\n",
      "  interesting/JJ\n",
      "  ,/,\n",
      "  I/PRP\n",
      "  will/MD\n",
      "  be/VB\n",
      "  looking/VBG\n",
      "  it/PRP\n",
      "  up/RP\n",
      "  ./.\n",
      "  Though/NNP\n",
      "  currently/RB\n",
      "  ,/,\n",
      "  I/PRP\n",
      "  am/VBP\n",
      "  interested/JJ\n",
      "  the/DT\n",
      "  most/RBS\n",
      "  in/IN\n",
      "  3D/CD\n",
      "  graphics/NNS\n",
      "  generation/NN\n",
      "  ,/,\n",
      "  data/NNS\n",
      "  visualization/NN\n",
      "  ,/,\n",
      "  game/NN\n",
      "  dev/NN\n",
      "  ,/,\n",
      "  AR/VR/NNP\n",
      "  and/CC\n",
      "  (ORGANIZATION AI/NNP)\n",
      "  ./.\n",
      "  I/PRP\n",
      "  also/RB\n",
      "  have/VBP\n",
      "  some/DT\n",
      "  experience/NN\n",
      "  in/IN\n",
      "  web/NN\n",
      "  dev/NN\n",
      "  ,/,\n",
      "  but/CC\n",
      "  not/RB\n",
      "  as/RB\n",
      "  much/JJ\n",
      "  interest/NN\n",
      "  (/(\n",
      "  still/RB\n",
      "  ,/,\n",
      "  will/MD\n",
      "  also/RB\n",
      "  be/VB\n",
      "  looking/VBG\n",
      "  them/PRP\n",
      "  up/RP\n",
      "  at/IN\n",
      "  least/JJS\n",
      "  once/RB\n",
      "  )/)\n",
      "  ./.\n",
      "  Oh/UH\n",
      "  and/CC\n",
      "  an/DT\n",
      "  extra/JJ\n",
      "  question/NN\n",
      "  :/:\n",
      "  Which/JJ\n",
      "  subreddit/NN\n",
      "  (/(\n",
      "  s/NN\n",
      "  )/)\n",
      "  would/MD\n",
      "  you/PRP\n",
      "  recommend/VB\n",
      "  for/IN\n",
      "  being/VBG\n",
      "  involved/VBN\n",
      "  in/IN\n",
      "  and/CC\n",
      "  informed/VBD\n",
      "  about/IN\n",
      "  these/DT\n",
      "  events/NNS\n",
      "  ?/.)\n"
     ]
    }
   ],
   "source": [
    "entities = ne_chunk(tagged)\n",
    "entities.pprint()"
   ]
  },
  {
   "cell_type": "markdown",
   "metadata": {},
   "source": [
    "### VADER Sentiment Analysis"
   ]
  },
  {
   "cell_type": "code",
   "execution_count": 18,
   "metadata": {},
   "outputs": [],
   "source": [
    "from nltk.sentiment import SentimentIntensityAnalyzer\n",
    "from tqdm.notebook import tqdm\n",
    "\n",
    "sia = SentimentIntensityAnalyzer()"
   ]
  },
  {
   "cell_type": "markdown",
   "metadata": {},
   "source": [
    "### Compound value goes from -1 to 1, from negative to positive"
   ]
  },
  {
   "cell_type": "code",
   "execution_count": 19,
   "metadata": {},
   "outputs": [
    {
     "data": {
      "text/plain": [
       "{'neg': 0.0, 'neu': 0.318, 'pos': 0.682, 'compound': 0.6468}"
      ]
     },
     "execution_count": 19,
     "metadata": {},
     "output_type": "execute_result"
    }
   ],
   "source": [
    "sia.polarity_scores(\"I am so happy!\")"
   ]
  },
  {
   "cell_type": "code",
   "execution_count": 20,
   "metadata": {},
   "outputs": [
    {
     "data": {
      "text/plain": [
       "{'neg': 0.468, 'neu': 0.532, 'pos': 0.0, 'compound': -0.6588}"
      ]
     },
     "execution_count": 20,
     "metadata": {},
     "output_type": "execute_result"
    }
   ],
   "source": [
    "sia.polarity_scores(\"This is the worst thing ever!\")"
   ]
  },
  {
   "cell_type": "code",
   "execution_count": 21,
   "metadata": {},
   "outputs": [
    {
     "data": {
      "text/plain": [
       "{'neg': 0.0, 'neu': 0.892, 'pos': 0.108, 'compound': 0.7783}"
      ]
     },
     "execution_count": 21,
     "metadata": {},
     "output_type": "execute_result"
    }
   ],
   "source": [
    "sia.polarity_scores(example_text)"
   ]
  },
  {
   "cell_type": "code",
   "execution_count": 51,
   "metadata": {},
   "outputs": [
    {
     "data": {
      "text/plain": [
       "100"
      ]
     },
     "execution_count": 51,
     "metadata": {},
     "output_type": "execute_result"
    }
   ],
   "source": [
    "len(df)"
   ]
  },
  {
   "cell_type": "code",
   "execution_count": 52,
   "metadata": {},
   "outputs": [
    {
     "name": "stdout",
     "output_type": "stream",
     "text": [
      "0\n",
      "1\n",
      "2\n",
      "3\n",
      "4\n",
      "5\n",
      "6\n",
      "7\n",
      "8\n",
      "9\n",
      "10\n",
      "11\n",
      "12\n",
      "13\n",
      "14\n",
      "15\n",
      "16\n",
      "17\n",
      "18\n",
      "19\n",
      "20\n",
      "21\n",
      "22\n",
      "23\n",
      "24\n",
      "25\n",
      "26\n",
      "27\n",
      "28\n",
      "29\n",
      "30\n",
      "31\n",
      "32\n",
      "33\n",
      "34\n",
      "35\n",
      "36\n",
      "37\n",
      "38\n",
      "39\n",
      "40\n",
      "41\n",
      "42\n",
      "43\n",
      "44\n",
      "45\n",
      "46\n",
      "47\n",
      "48\n",
      "49\n",
      "50\n",
      "51\n",
      "52\n",
      "53\n",
      "54\n",
      "55\n",
      "56\n",
      "57\n",
      "58\n",
      "59\n",
      "60\n",
      "61\n",
      "62\n",
      "63\n",
      "64\n",
      "65\n",
      "66\n",
      "67\n",
      "68\n",
      "69\n",
      "70\n",
      "71\n",
      "72\n",
      "73\n",
      "74\n",
      "75\n",
      "76\n",
      "77\n",
      "78\n",
      "79\n",
      "80\n",
      "81\n",
      "82\n",
      "83\n",
      "84\n",
      "85\n",
      "86\n",
      "87\n",
      "88\n",
      "89\n",
      "90\n",
      "91\n",
      "92\n",
      "93\n",
      "94\n",
      "95\n",
      "96\n",
      "97\n",
      "98\n",
      "99\n"
     ]
    }
   ],
   "source": [
    "res = []\n",
    "\n",
    "for index, row in df.iterrows():\n",
    "    print(index)\n",
    "    try:\n",
    "        res.append(sia.polarity_scores(row['text']))\n",
    "    except Exception:\n",
    "        res.append(\n",
    "            {\n",
    "                'neg': None,\n",
    "                'neu': None,\n",
    "                'pos': None,\n",
    "                'compound': None\n",
    "            }\n",
    "        )\n"
   ]
  },
  {
   "cell_type": "code",
   "execution_count": 53,
   "metadata": {},
   "outputs": [
    {
     "data": {
      "text/html": [
       "<div>\n",
       "<style scoped>\n",
       "    .dataframe tbody tr th:only-of-type {\n",
       "        vertical-align: middle;\n",
       "    }\n",
       "\n",
       "    .dataframe tbody tr th {\n",
       "        vertical-align: top;\n",
       "    }\n",
       "\n",
       "    .dataframe thead th {\n",
       "        text-align: right;\n",
       "    }\n",
       "</style>\n",
       "<table border=\"1\" class=\"dataframe\">\n",
       "  <thead>\n",
       "    <tr style=\"text-align: right;\">\n",
       "      <th></th>\n",
       "      <th>neg</th>\n",
       "      <th>neu</th>\n",
       "      <th>pos</th>\n",
       "      <th>compound</th>\n",
       "    </tr>\n",
       "  </thead>\n",
       "  <tbody>\n",
       "    <tr>\n",
       "      <th>0</th>\n",
       "      <td>NaN</td>\n",
       "      <td>NaN</td>\n",
       "      <td>NaN</td>\n",
       "      <td>NaN</td>\n",
       "    </tr>\n",
       "    <tr>\n",
       "      <th>1</th>\n",
       "      <td>0.086</td>\n",
       "      <td>0.841</td>\n",
       "      <td>0.073</td>\n",
       "      <td>-0.8727</td>\n",
       "    </tr>\n",
       "    <tr>\n",
       "      <th>2</th>\n",
       "      <td>0.037</td>\n",
       "      <td>0.846</td>\n",
       "      <td>0.117</td>\n",
       "      <td>0.7220</td>\n",
       "    </tr>\n",
       "    <tr>\n",
       "      <th>3</th>\n",
       "      <td>0.053</td>\n",
       "      <td>0.835</td>\n",
       "      <td>0.112</td>\n",
       "      <td>0.8553</td>\n",
       "    </tr>\n",
       "    <tr>\n",
       "      <th>4</th>\n",
       "      <td>0.041</td>\n",
       "      <td>0.744</td>\n",
       "      <td>0.215</td>\n",
       "      <td>0.8885</td>\n",
       "    </tr>\n",
       "  </tbody>\n",
       "</table>\n",
       "</div>"
      ],
      "text/plain": [
       "     neg    neu    pos  compound\n",
       "0    NaN    NaN    NaN       NaN\n",
       "1  0.086  0.841  0.073   -0.8727\n",
       "2  0.037  0.846  0.117    0.7220\n",
       "3  0.053  0.835  0.112    0.8553\n",
       "4  0.041  0.744  0.215    0.8885"
      ]
     },
     "execution_count": 53,
     "metadata": {},
     "output_type": "execute_result"
    }
   ],
   "source": [
    "vader = pd.DataFrame.from_records(res)\n",
    "vader.head()"
   ]
  },
  {
   "cell_type": "code",
   "execution_count": 60,
   "metadata": {},
   "outputs": [
    {
     "data": {
      "text/html": [
       "<div>\n",
       "<style scoped>\n",
       "    .dataframe tbody tr th:only-of-type {\n",
       "        vertical-align: middle;\n",
       "    }\n",
       "\n",
       "    .dataframe tbody tr th {\n",
       "        vertical-align: top;\n",
       "    }\n",
       "\n",
       "    .dataframe thead th {\n",
       "        text-align: right;\n",
       "    }\n",
       "</style>\n",
       "<table border=\"1\" class=\"dataframe\">\n",
       "  <thead>\n",
       "    <tr style=\"text-align: right;\">\n",
       "      <th></th>\n",
       "      <th>Unnamed: 0</th>\n",
       "      <th>neg</th>\n",
       "      <th>neu</th>\n",
       "      <th>pos</th>\n",
       "      <th>compound</th>\n",
       "      <th>created_utc</th>\n",
       "      <th>title</th>\n",
       "      <th>text</th>\n",
       "      <th>author</th>\n",
       "      <th>score</th>\n",
       "      <th>upvote_ratio</th>\n",
       "      <th>num_comments</th>\n",
       "      <th>url</th>\n",
       "    </tr>\n",
       "  </thead>\n",
       "  <tbody>\n",
       "    <tr>\n",
       "      <th>0</th>\n",
       "      <td>0</td>\n",
       "      <td>NaN</td>\n",
       "      <td>NaN</td>\n",
       "      <td>NaN</td>\n",
       "      <td>NaN</td>\n",
       "      <td>1.673829e+09</td>\n",
       "      <td>Looking for books, videos, or other resources ...</td>\n",
       "      <td>NaN</td>\n",
       "      <td>mobotsar</td>\n",
       "      <td>93</td>\n",
       "      <td>0.99</td>\n",
       "      <td>113</td>\n",
       "      <td>https://www.reddit.com/r/computerscience/comme...</td>\n",
       "    </tr>\n",
       "    <tr>\n",
       "      <th>1</th>\n",
       "      <td>1</td>\n",
       "      <td>0.086</td>\n",
       "      <td>0.841</td>\n",
       "      <td>0.073</td>\n",
       "      <td>-0.8727</td>\n",
       "      <td>1.686431e+09</td>\n",
       "      <td>/r/ComputerScience will be going dark starting...</td>\n",
       "      <td>## Update (June 16th, 2023):\\n\\nThis subreddit...</td>\n",
       "      <td>nuclear_splines</td>\n",
       "      <td>290</td>\n",
       "      <td>0.97</td>\n",
       "      <td>21</td>\n",
       "      <td>https://www.reddit.com/r/computerscience/comme...</td>\n",
       "    </tr>\n",
       "    <tr>\n",
       "      <th>2</th>\n",
       "      <td>2</td>\n",
       "      <td>0.037</td>\n",
       "      <td>0.846</td>\n",
       "      <td>0.117</td>\n",
       "      <td>0.7220</td>\n",
       "      <td>1.686512e+09</td>\n",
       "      <td>How computers measure time</td>\n",
       "      <td>Can someone explain this to me? I've been told...</td>\n",
       "      <td>RunDiscombobulated67</td>\n",
       "      <td>86</td>\n",
       "      <td>0.98</td>\n",
       "      <td>27</td>\n",
       "      <td>https://www.reddit.com/r/computerscience/comme...</td>\n",
       "    </tr>\n",
       "    <tr>\n",
       "      <th>3</th>\n",
       "      <td>3</td>\n",
       "      <td>0.053</td>\n",
       "      <td>0.835</td>\n",
       "      <td>0.112</td>\n",
       "      <td>0.8553</td>\n",
       "      <td>1.686514e+09</td>\n",
       "      <td>Question About Registers</td>\n",
       "      <td>Hello everyone. There is a misunderstanding I ...</td>\n",
       "      <td>mellowhorses</td>\n",
       "      <td>62</td>\n",
       "      <td>0.97</td>\n",
       "      <td>24</td>\n",
       "      <td>https://www.reddit.com/r/computerscience/comme...</td>\n",
       "    </tr>\n",
       "    <tr>\n",
       "      <th>4</th>\n",
       "      <td>4</td>\n",
       "      <td>0.041</td>\n",
       "      <td>0.744</td>\n",
       "      <td>0.215</td>\n",
       "      <td>0.8885</td>\n",
       "      <td>1.686507e+09</td>\n",
       "      <td>Learning a new skill</td>\n",
       "      <td>Hey guys,\\n\\nWanted to ask what a good compute...</td>\n",
       "      <td>Haunting_Document142</td>\n",
       "      <td>30</td>\n",
       "      <td>0.90</td>\n",
       "      <td>38</td>\n",
       "      <td>https://www.reddit.com/r/computerscience/comme...</td>\n",
       "    </tr>\n",
       "    <tr>\n",
       "      <th>5</th>\n",
       "      <td>5</td>\n",
       "      <td>0.000</td>\n",
       "      <td>0.892</td>\n",
       "      <td>0.108</td>\n",
       "      <td>0.7783</td>\n",
       "      <td>1.686502e+09</td>\n",
       "      <td>Recommendations of Hackathons, GameJams, Tech ...</td>\n",
       "      <td>I'm interested in many fields of CS so any eve...</td>\n",
       "      <td>trojaneo</td>\n",
       "      <td>32</td>\n",
       "      <td>0.89</td>\n",
       "      <td>8</td>\n",
       "      <td>https://www.reddit.com/r/computerscience/comme...</td>\n",
       "    </tr>\n",
       "    <tr>\n",
       "      <th>6</th>\n",
       "      <td>6</td>\n",
       "      <td>0.000</td>\n",
       "      <td>0.875</td>\n",
       "      <td>0.125</td>\n",
       "      <td>0.8932</td>\n",
       "      <td>1.686407e+09</td>\n",
       "      <td>Any CS books which present their subject chron...</td>\n",
       "      <td>I recently read calculus reordered and Real An...</td>\n",
       "      <td>ingsocks</td>\n",
       "      <td>78</td>\n",
       "      <td>0.94</td>\n",
       "      <td>13</td>\n",
       "      <td>https://www.reddit.com/r/computerscience/comme...</td>\n",
       "    </tr>\n",
       "    <tr>\n",
       "      <th>7</th>\n",
       "      <td>7</td>\n",
       "      <td>0.027</td>\n",
       "      <td>0.815</td>\n",
       "      <td>0.158</td>\n",
       "      <td>0.9906</td>\n",
       "      <td>1.686409e+09</td>\n",
       "      <td>Best Practices using LaTeX.</td>\n",
       "      <td>I have just finished my first seventy page the...</td>\n",
       "      <td>Sorry_Scale_1064</td>\n",
       "      <td>32</td>\n",
       "      <td>0.88</td>\n",
       "      <td>7</td>\n",
       "      <td>https://www.reddit.com/r/computerscience/comme...</td>\n",
       "    </tr>\n",
       "    <tr>\n",
       "      <th>8</th>\n",
       "      <td>8</td>\n",
       "      <td>0.000</td>\n",
       "      <td>0.970</td>\n",
       "      <td>0.030</td>\n",
       "      <td>0.1531</td>\n",
       "      <td>1.686431e+09</td>\n",
       "      <td>Pumping lemma Question</td>\n",
       "      <td>I have 2 languages the first one is regular an...</td>\n",
       "      <td>Melodic-Scheme8794</td>\n",
       "      <td>9</td>\n",
       "      <td>0.92</td>\n",
       "      <td>7</td>\n",
       "      <td>https://www.reddit.com/r/computerscience/comme...</td>\n",
       "    </tr>\n",
       "    <tr>\n",
       "      <th>9</th>\n",
       "      <td>9</td>\n",
       "      <td>0.058</td>\n",
       "      <td>0.897</td>\n",
       "      <td>0.045</td>\n",
       "      <td>-0.3423</td>\n",
       "      <td>1.686346e+09</td>\n",
       "      <td>I don't understand the Halting Problem</td>\n",
       "      <td>The key to the solution, from what I've got so...</td>\n",
       "      <td>androt14_</td>\n",
       "      <td>51</td>\n",
       "      <td>0.88</td>\n",
       "      <td>47</td>\n",
       "      <td>https://www.reddit.com/r/computerscience/comme...</td>\n",
       "    </tr>\n",
       "    <tr>\n",
       "      <th>10</th>\n",
       "      <td>10</td>\n",
       "      <td>0.000</td>\n",
       "      <td>0.910</td>\n",
       "      <td>0.090</td>\n",
       "      <td>0.7494</td>\n",
       "      <td>1.686317e+09</td>\n",
       "      <td>How to Use a Collaborative Approach to Problem...</td>\n",
       "      <td>Hello there!\\n\\nThis is an article I posted on...</td>\n",
       "      <td>albeXL</td>\n",
       "      <td>7</td>\n",
       "      <td>0.77</td>\n",
       "      <td>1</td>\n",
       "      <td>https://www.reddit.com/r/computerscience/comme...</td>\n",
       "    </tr>\n",
       "    <tr>\n",
       "      <th>11</th>\n",
       "      <td>11</td>\n",
       "      <td>0.033</td>\n",
       "      <td>0.893</td>\n",
       "      <td>0.075</td>\n",
       "      <td>0.7096</td>\n",
       "      <td>1.686236e+09</td>\n",
       "      <td>Good papers for high school students?</td>\n",
       "      <td>This summer I am hosting an internship for 5 h...</td>\n",
       "      <td>bokmann</td>\n",
       "      <td>58</td>\n",
       "      <td>0.91</td>\n",
       "      <td>12</td>\n",
       "      <td>https://www.reddit.com/r/computerscience/comme...</td>\n",
       "    </tr>\n",
       "    <tr>\n",
       "      <th>12</th>\n",
       "      <td>12</td>\n",
       "      <td>0.049</td>\n",
       "      <td>0.805</td>\n",
       "      <td>0.146</td>\n",
       "      <td>0.9013</td>\n",
       "      <td>1.686252e+09</td>\n",
       "      <td>Practical computation with non-Vonn Neumann ma...</td>\n",
       "      <td>Right now we do nearly 100% of our computation...</td>\n",
       "      <td>currentscurrents</td>\n",
       "      <td>3</td>\n",
       "      <td>0.67</td>\n",
       "      <td>10</td>\n",
       "      <td>https://www.reddit.com/r/computerscience/comme...</td>\n",
       "    </tr>\n",
       "    <tr>\n",
       "      <th>13</th>\n",
       "      <td>13</td>\n",
       "      <td>0.000</td>\n",
       "      <td>0.947</td>\n",
       "      <td>0.053</td>\n",
       "      <td>0.5859</td>\n",
       "      <td>1.686202e+09</td>\n",
       "      <td>Theoretical Computational Model Stronger than ...</td>\n",
       "      <td>Suppose two things: Time is infinite in the fu...</td>\n",
       "      <td>roughman99</td>\n",
       "      <td>26</td>\n",
       "      <td>0.83</td>\n",
       "      <td>13</td>\n",
       "      <td>https://www.reddit.com/r/computerscience/comme...</td>\n",
       "    </tr>\n",
       "    <tr>\n",
       "      <th>14</th>\n",
       "      <td>14</td>\n",
       "      <td>0.016</td>\n",
       "      <td>0.884</td>\n",
       "      <td>0.100</td>\n",
       "      <td>0.8881</td>\n",
       "      <td>1.686220e+09</td>\n",
       "      <td>Developer communities London UK</td>\n",
       "      <td>Hello!\\n\\nTLDR:\\nDoes anyone in this community...</td>\n",
       "      <td>TheWopper</td>\n",
       "      <td>5</td>\n",
       "      <td>0.86</td>\n",
       "      <td>1</td>\n",
       "      <td>https://www.reddit.com/r/computerscience/comme...</td>\n",
       "    </tr>\n",
       "  </tbody>\n",
       "</table>\n",
       "</div>"
      ],
      "text/plain": [
       "    Unnamed: 0    neg    neu    pos  compound   created_utc  \\\n",
       "0            0    NaN    NaN    NaN       NaN  1.673829e+09   \n",
       "1            1  0.086  0.841  0.073   -0.8727  1.686431e+09   \n",
       "2            2  0.037  0.846  0.117    0.7220  1.686512e+09   \n",
       "3            3  0.053  0.835  0.112    0.8553  1.686514e+09   \n",
       "4            4  0.041  0.744  0.215    0.8885  1.686507e+09   \n",
       "5            5  0.000  0.892  0.108    0.7783  1.686502e+09   \n",
       "6            6  0.000  0.875  0.125    0.8932  1.686407e+09   \n",
       "7            7  0.027  0.815  0.158    0.9906  1.686409e+09   \n",
       "8            8  0.000  0.970  0.030    0.1531  1.686431e+09   \n",
       "9            9  0.058  0.897  0.045   -0.3423  1.686346e+09   \n",
       "10          10  0.000  0.910  0.090    0.7494  1.686317e+09   \n",
       "11          11  0.033  0.893  0.075    0.7096  1.686236e+09   \n",
       "12          12  0.049  0.805  0.146    0.9013  1.686252e+09   \n",
       "13          13  0.000  0.947  0.053    0.5859  1.686202e+09   \n",
       "14          14  0.016  0.884  0.100    0.8881  1.686220e+09   \n",
       "\n",
       "                                                title  \\\n",
       "0   Looking for books, videos, or other resources ...   \n",
       "1   /r/ComputerScience will be going dark starting...   \n",
       "2                          How computers measure time   \n",
       "3                            Question About Registers   \n",
       "4                                Learning a new skill   \n",
       "5   Recommendations of Hackathons, GameJams, Tech ...   \n",
       "6   Any CS books which present their subject chron...   \n",
       "7                         Best Practices using LaTeX.   \n",
       "8                              Pumping lemma Question   \n",
       "9              I don't understand the Halting Problem   \n",
       "10  How to Use a Collaborative Approach to Problem...   \n",
       "11              Good papers for high school students?   \n",
       "12  Practical computation with non-Vonn Neumann ma...   \n",
       "13  Theoretical Computational Model Stronger than ...   \n",
       "14                    Developer communities London UK   \n",
       "\n",
       "                                                 text                author  \\\n",
       "0                                                 NaN              mobotsar   \n",
       "1   ## Update (June 16th, 2023):\\n\\nThis subreddit...       nuclear_splines   \n",
       "2   Can someone explain this to me? I've been told...  RunDiscombobulated67   \n",
       "3   Hello everyone. There is a misunderstanding I ...          mellowhorses   \n",
       "4   Hey guys,\\n\\nWanted to ask what a good compute...  Haunting_Document142   \n",
       "5   I'm interested in many fields of CS so any eve...              trojaneo   \n",
       "6   I recently read calculus reordered and Real An...              ingsocks   \n",
       "7   I have just finished my first seventy page the...      Sorry_Scale_1064   \n",
       "8   I have 2 languages the first one is regular an...    Melodic-Scheme8794   \n",
       "9   The key to the solution, from what I've got so...             androt14_   \n",
       "10  Hello there!\\n\\nThis is an article I posted on...                albeXL   \n",
       "11  This summer I am hosting an internship for 5 h...               bokmann   \n",
       "12  Right now we do nearly 100% of our computation...      currentscurrents   \n",
       "13  Suppose two things: Time is infinite in the fu...            roughman99   \n",
       "14  Hello!\\n\\nTLDR:\\nDoes anyone in this community...             TheWopper   \n",
       "\n",
       "    score  upvote_ratio  num_comments  \\\n",
       "0      93          0.99           113   \n",
       "1     290          0.97            21   \n",
       "2      86          0.98            27   \n",
       "3      62          0.97            24   \n",
       "4      30          0.90            38   \n",
       "5      32          0.89             8   \n",
       "6      78          0.94            13   \n",
       "7      32          0.88             7   \n",
       "8       9          0.92             7   \n",
       "9      51          0.88            47   \n",
       "10      7          0.77             1   \n",
       "11     58          0.91            12   \n",
       "12      3          0.67            10   \n",
       "13     26          0.83            13   \n",
       "14      5          0.86             1   \n",
       "\n",
       "                                                  url  \n",
       "0   https://www.reddit.com/r/computerscience/comme...  \n",
       "1   https://www.reddit.com/r/computerscience/comme...  \n",
       "2   https://www.reddit.com/r/computerscience/comme...  \n",
       "3   https://www.reddit.com/r/computerscience/comme...  \n",
       "4   https://www.reddit.com/r/computerscience/comme...  \n",
       "5   https://www.reddit.com/r/computerscience/comme...  \n",
       "6   https://www.reddit.com/r/computerscience/comme...  \n",
       "7   https://www.reddit.com/r/computerscience/comme...  \n",
       "8   https://www.reddit.com/r/computerscience/comme...  \n",
       "9   https://www.reddit.com/r/computerscience/comme...  \n",
       "10  https://www.reddit.com/r/computerscience/comme...  \n",
       "11  https://www.reddit.com/r/computerscience/comme...  \n",
       "12  https://www.reddit.com/r/computerscience/comme...  \n",
       "13  https://www.reddit.com/r/computerscience/comme...  \n",
       "14  https://www.reddit.com/r/computerscience/comme...  "
      ]
     },
     "execution_count": 60,
     "metadata": {},
     "output_type": "execute_result"
    }
   ],
   "source": [
    "vader_df = vader.reset_index().rename(columns={'index': 'Unnamed: 0'}).merge(df, how='left')\n",
    "vader_df.head(15)"
   ]
  },
  {
   "cell_type": "markdown",
   "metadata": {},
   "source": [
    "### Visualizations"
   ]
  },
  {
   "cell_type": "markdown",
   "metadata": {},
   "source": [
    "##### Word Cloud"
   ]
  },
  {
   "cell_type": "code",
   "execution_count": 85,
   "metadata": {},
   "outputs": [
    {
     "name": "stdout",
     "output_type": "stream",
     "text": [
      "Requirement already satisfied: wordcloud in c:\\users\\timo7\\desktop\\uiuc fall 2023\\tis\\cis-410-project\\.venv\\lib\\site-packages (1.9.2)\n",
      "Requirement already satisfied: numpy>=1.6.1 in c:\\users\\timo7\\desktop\\uiuc fall 2023\\tis\\cis-410-project\\.venv\\lib\\site-packages (from wordcloud) (1.26.1)\n",
      "Requirement already satisfied: pillow in c:\\users\\timo7\\desktop\\uiuc fall 2023\\tis\\cis-410-project\\.venv\\lib\\site-packages (from wordcloud) (10.1.0)\n",
      "Requirement already satisfied: matplotlib in c:\\users\\timo7\\desktop\\uiuc fall 2023\\tis\\cis-410-project\\.venv\\lib\\site-packages (from wordcloud) (3.8.1)\n",
      "Requirement already satisfied: contourpy>=1.0.1 in c:\\users\\timo7\\desktop\\uiuc fall 2023\\tis\\cis-410-project\\.venv\\lib\\site-packages (from matplotlib->wordcloud) (1.2.0)\n",
      "Requirement already satisfied: cycler>=0.10 in c:\\users\\timo7\\desktop\\uiuc fall 2023\\tis\\cis-410-project\\.venv\\lib\\site-packages (from matplotlib->wordcloud) (0.12.1)\n",
      "Requirement already satisfied: fonttools>=4.22.0 in c:\\users\\timo7\\desktop\\uiuc fall 2023\\tis\\cis-410-project\\.venv\\lib\\site-packages (from matplotlib->wordcloud) (4.44.0)\n",
      "Requirement already satisfied: kiwisolver>=1.3.1 in c:\\users\\timo7\\desktop\\uiuc fall 2023\\tis\\cis-410-project\\.venv\\lib\\site-packages (from matplotlib->wordcloud) (1.4.5)\n",
      "Requirement already satisfied: packaging>=20.0 in c:\\users\\timo7\\desktop\\uiuc fall 2023\\tis\\cis-410-project\\.venv\\lib\\site-packages (from matplotlib->wordcloud) (23.2)\n",
      "Requirement already satisfied: pyparsing>=2.3.1 in c:\\users\\timo7\\desktop\\uiuc fall 2023\\tis\\cis-410-project\\.venv\\lib\\site-packages (from matplotlib->wordcloud) (3.1.1)\n",
      "Requirement already satisfied: python-dateutil>=2.7 in c:\\users\\timo7\\desktop\\uiuc fall 2023\\tis\\cis-410-project\\.venv\\lib\\site-packages (from matplotlib->wordcloud) (2.8.2)\n",
      "Requirement already satisfied: six>=1.5 in c:\\users\\timo7\\desktop\\uiuc fall 2023\\tis\\cis-410-project\\.venv\\lib\\site-packages (from python-dateutil>=2.7->matplotlib->wordcloud) (1.16.0)\n"
     ]
    },
    {
     "name": "stderr",
     "output_type": "stream",
     "text": [
      "[nltk_data] Downloading package stopwords to\n",
      "[nltk_data]     C:\\Users\\timo7\\AppData\\Roaming\\nltk_data...\n",
      "[nltk_data]   Unzipping corpora\\stopwords.zip.\n"
     ]
    },
    {
     "data": {
      "text/plain": [
       "True"
      ]
     },
     "execution_count": 85,
     "metadata": {},
     "output_type": "execute_result"
    }
   ],
   "source": [
    "!pip install wordcloud\n",
    "\n",
    "from wordcloud import WordCloud\n",
    "from PIL import Image\n",
    "from nltk.corpus import stopwords\n",
    "nltk.download('stopwords')\n"
   ]
  },
  {
   "cell_type": "code",
   "execution_count": null,
   "metadata": {},
   "outputs": [],
   "source": [
    "# remove Stop Words from Vocabulary\n",
    "vocab = vader_df.dropna()['text'].str.replace(r'\\?|\\.|\\'', ' ')\n",
    "\n",
    "vocab = ' '.join(vocab)\n",
    "vocab = ' '.join([i for i in vocab.split(' ') if i not in stopwords.words('english')])"
   ]
  },
  {
   "cell_type": "markdown",
   "metadata": {},
   "source": [
    "### Some Rough Idea of our Wordcloud, we can also make it into the shape of Reddit if we want"
   ]
  },
  {
   "cell_type": "code",
   "execution_count": 90,
   "metadata": {},
   "outputs": [
    {
     "data": {
      "text/plain": [
       "<matplotlib.image.AxesImage at 0x26bdef487f0>"
      ]
     },
     "execution_count": 90,
     "metadata": {},
     "output_type": "execute_result"
    },
    {
     "data": {
      "image/png": "[encoded data removed]",
      "text/plain": [
       "<Figure size 640x480 with 1 Axes>"
      ]
     },
     "metadata": {},
     "output_type": "display_data"
    }
   ],
   "source": [
    "wc = WordCloud().generate(vocab)\n",
    "plt.imshow(wc)"
   ]
  },
  {
   "cell_type": "markdown",
   "metadata": {},
   "source": [
    "### Separate Scores into Bins, then see if sentiment analysis correlates with score"
   ]
  },
  {
   "cell_type": "code",
   "execution_count": 92,
   "metadata": {},
   "outputs": [
    {
     "data": {
      "text/plain": [
       "0     (30.25, 691.0]\n",
       "1     (30.25, 691.0]\n",
       "2     (30.25, 691.0]\n",
       "3     (30.25, 691.0]\n",
       "4       (8.0, 30.25]\n",
       "           ...      \n",
       "95    (30.25, 691.0]\n",
       "96        (1.0, 8.0]\n",
       "97    (30.25, 691.0]\n",
       "98     (-0.001, 1.0]\n",
       "99    (30.25, 691.0]\n",
       "Name: score, Length: 100, dtype: category\n",
       "Categories (4, interval[float64, right]): [(-0.001, 1.0] < (1.0, 8.0] < (8.0, 30.25] < (30.25, 691.0]]"
      ]
     },
     "execution_count": 92,
     "metadata": {},
     "output_type": "execute_result"
    }
   ],
   "source": [
    "pd.qcut(vader_df['score'], q=4)"
   ]
  },
  {
   "cell_type": "code",
   "execution_count": 95,
   "metadata": {},
   "outputs": [],
   "source": [
    "vader_df['bin_score'] = pd.qcut(vader_df['score'], q=4)\n"
   ]
  },
  {
   "cell_type": "code",
   "execution_count": 103,
   "metadata": {},
   "outputs": [
    {
     "data": {
      "text/plain": [
       "bin_score\n",
       "(-0.001, 1.0]     28\n",
       "(30.25, 691.0]    25\n",
       "(8.0, 30.25]      24\n",
       "(1.0, 8.0]        23\n",
       "Name: count, dtype: int64"
      ]
     },
     "execution_count": 103,
     "metadata": {},
     "output_type": "execute_result"
    }
   ],
   "source": [
    "vader_df['bin_score'].value_counts()"
   ]
  },
  {
   "cell_type": "code",
   "execution_count": 109,
   "metadata": {},
   "outputs": [
    {
     "data": {
      "text/plain": [
       "<Axes: xlabel='bin_score', ylabel='pos'>"
      ]
     },
     "execution_count": 109,
     "metadata": {},
     "output_type": "execute_result"
    },
    {
     "data": {
      "image/png": "[encoded data removed]",
      "text/plain": [
       "<Figure size 640x480 with 1 Axes>"
      ]
     },
     "metadata": {},
     "output_type": "display_data"
    }
   ],
   "source": [
    "sns.barplot(vader_df, x='bin_score', y='pos')"
   ]
  },
  {
   "cell_type": "code",
   "execution_count": 110,
   "metadata": {},
   "outputs": [
    {
     "data": {
      "text/plain": [
       "<Axes: xlabel='bin_score', ylabel='neg'>"
      ]
     },
     "execution_count": 110,
     "metadata": {},
     "output_type": "execute_result"
    },
    {
     "data": {
      "image/png": "[encoded data removed]",
      "text/plain": [
       "<Figure size 640x480 with 1 Axes>"
      ]
     },
     "metadata": {},
     "output_type": "display_data"
    }
   ],
   "source": [
    "sns.barplot(vader_df, x='bin_score', y='neg')"
   ]
  },
  {
   "cell_type": "code",
   "execution_count": 111,
   "metadata": {},
   "outputs": [
    {
     "data": {
      "text/plain": [
       "<Axes: xlabel='bin_score', ylabel='neu'>"
      ]
     },
     "execution_count": 111,
     "metadata": {},
     "output_type": "execute_result"
    },
    {
     "data": {
      "image/png": "[encoded data removed]",
      "text/plain": [
       "<Figure size 640x480 with 1 Axes>"
      ]
     },
     "metadata": {},
     "output_type": "display_data"
    }
   ],
   "source": [
    "sns.barplot(vader_df, x='bin_score', y='neu')"
   ]
  },
  {
   "cell_type": "code",
   "execution_count": 96,
   "metadata": {},
   "outputs": [
    {
     "data": {
      "text/html": [
       "<div>\n",
       "<style scoped>\n",
       "    .dataframe tbody tr th:only-of-type {\n",
       "        vertical-align: middle;\n",
       "    }\n",
       "\n",
       "    .dataframe tbody tr th {\n",
       "        vertical-align: top;\n",
       "    }\n",
       "\n",
       "    .dataframe thead th {\n",
       "        text-align: right;\n",
       "    }\n",
       "</style>\n",
       "<table border=\"1\" class=\"dataframe\">\n",
       "  <thead>\n",
       "    <tr style=\"text-align: right;\">\n",
       "      <th></th>\n",
       "      <th>Unnamed: 0</th>\n",
       "      <th>neg</th>\n",
       "      <th>neu</th>\n",
       "      <th>pos</th>\n",
       "      <th>compound</th>\n",
       "      <th>created_utc</th>\n",
       "      <th>title</th>\n",
       "      <th>text</th>\n",
       "      <th>author</th>\n",
       "      <th>score</th>\n",
       "      <th>upvote_ratio</th>\n",
       "      <th>num_comments</th>\n",
       "      <th>url</th>\n",
       "      <th>bin_score</th>\n",
       "    </tr>\n",
       "  </thead>\n",
       "  <tbody>\n",
       "    <tr>\n",
       "      <th>0</th>\n",
       "      <td>0</td>\n",
       "      <td>NaN</td>\n",
       "      <td>NaN</td>\n",
       "      <td>NaN</td>\n",
       "      <td>NaN</td>\n",
       "      <td>1.673829e+09</td>\n",
       "      <td>Looking for books, videos, or other resources ...</td>\n",
       "      <td>NaN</td>\n",
       "      <td>mobotsar</td>\n",
       "      <td>93</td>\n",
       "      <td>0.99</td>\n",
       "      <td>113</td>\n",
       "      <td>https://www.reddit.com/r/computerscience/comme...</td>\n",
       "      <td>(30.25, 691.0]</td>\n",
       "    </tr>\n",
       "    <tr>\n",
       "      <th>1</th>\n",
       "      <td>1</td>\n",
       "      <td>0.086</td>\n",
       "      <td>0.841</td>\n",
       "      <td>0.073</td>\n",
       "      <td>-0.8727</td>\n",
       "      <td>1.686431e+09</td>\n",
       "      <td>/r/ComputerScience will be going dark starting...</td>\n",
       "      <td>## Update (June 16th, 2023):\\n\\nThis subreddit...</td>\n",
       "      <td>nuclear_splines</td>\n",
       "      <td>290</td>\n",
       "      <td>0.97</td>\n",
       "      <td>21</td>\n",
       "      <td>https://www.reddit.com/r/computerscience/comme...</td>\n",
       "      <td>(30.25, 691.0]</td>\n",
       "    </tr>\n",
       "    <tr>\n",
       "      <th>2</th>\n",
       "      <td>2</td>\n",
       "      <td>0.037</td>\n",
       "      <td>0.846</td>\n",
       "      <td>0.117</td>\n",
       "      <td>0.7220</td>\n",
       "      <td>1.686512e+09</td>\n",
       "      <td>How computers measure time</td>\n",
       "      <td>Can someone explain this to me? I've been told...</td>\n",
       "      <td>RunDiscombobulated67</td>\n",
       "      <td>86</td>\n",
       "      <td>0.98</td>\n",
       "      <td>27</td>\n",
       "      <td>https://www.reddit.com/r/computerscience/comme...</td>\n",
       "      <td>(30.25, 691.0]</td>\n",
       "    </tr>\n",
       "    <tr>\n",
       "      <th>3</th>\n",
       "      <td>3</td>\n",
       "      <td>0.053</td>\n",
       "      <td>0.835</td>\n",
       "      <td>0.112</td>\n",
       "      <td>0.8553</td>\n",
       "      <td>1.686514e+09</td>\n",
       "      <td>Question About Registers</td>\n",
       "      <td>Hello everyone. There is a misunderstanding I ...</td>\n",
       "      <td>mellowhorses</td>\n",
       "      <td>62</td>\n",
       "      <td>0.97</td>\n",
       "      <td>24</td>\n",
       "      <td>https://www.reddit.com/r/computerscience/comme...</td>\n",
       "      <td>(30.25, 691.0]</td>\n",
       "    </tr>\n",
       "    <tr>\n",
       "      <th>4</th>\n",
       "      <td>4</td>\n",
       "      <td>0.041</td>\n",
       "      <td>0.744</td>\n",
       "      <td>0.215</td>\n",
       "      <td>0.8885</td>\n",
       "      <td>1.686507e+09</td>\n",
       "      <td>Learning a new skill</td>\n",
       "      <td>Hey guys,\\n\\nWanted to ask what a good compute...</td>\n",
       "      <td>Haunting_Document142</td>\n",
       "      <td>30</td>\n",
       "      <td>0.90</td>\n",
       "      <td>38</td>\n",
       "      <td>https://www.reddit.com/r/computerscience/comme...</td>\n",
       "      <td>(8.0, 30.25]</td>\n",
       "    </tr>\n",
       "  </tbody>\n",
       "</table>\n",
       "</div>"
      ],
      "text/plain": [
       "   Unnamed: 0    neg    neu    pos  compound   created_utc  \\\n",
       "0           0    NaN    NaN    NaN       NaN  1.673829e+09   \n",
       "1           1  0.086  0.841  0.073   -0.8727  1.686431e+09   \n",
       "2           2  0.037  0.846  0.117    0.7220  1.686512e+09   \n",
       "3           3  0.053  0.835  0.112    0.8553  1.686514e+09   \n",
       "4           4  0.041  0.744  0.215    0.8885  1.686507e+09   \n",
       "\n",
       "                                               title  \\\n",
       "0  Looking for books, videos, or other resources ...   \n",
       "1  /r/ComputerScience will be going dark starting...   \n",
       "2                         How computers measure time   \n",
       "3                           Question About Registers   \n",
       "4                               Learning a new skill   \n",
       "\n",
       "                                                text                author  \\\n",
       "0                                                NaN              mobotsar   \n",
       "1  ## Update (June 16th, 2023):\\n\\nThis subreddit...       nuclear_splines   \n",
       "2  Can someone explain this to me? I've been told...  RunDiscombobulated67   \n",
       "3  Hello everyone. There is a misunderstanding I ...          mellowhorses   \n",
       "4  Hey guys,\\n\\nWanted to ask what a good compute...  Haunting_Document142   \n",
       "\n",
       "   score  upvote_ratio  num_comments  \\\n",
       "0     93          0.99           113   \n",
       "1    290          0.97            21   \n",
       "2     86          0.98            27   \n",
       "3     62          0.97            24   \n",
       "4     30          0.90            38   \n",
       "\n",
       "                                                 url       bin_score  \n",
       "0  https://www.reddit.com/r/computerscience/comme...  (30.25, 691.0]  \n",
       "1  https://www.reddit.com/r/computerscience/comme...  (30.25, 691.0]  \n",
       "2  https://www.reddit.com/r/computerscience/comme...  (30.25, 691.0]  \n",
       "3  https://www.reddit.com/r/computerscience/comme...  (30.25, 691.0]  \n",
       "4  https://www.reddit.com/r/computerscience/comme...    (8.0, 30.25]  "
      ]
     },
     "execution_count": 96,
     "metadata": {},
     "output_type": "execute_result"
    }
   ],
   "source": [
    "vader_df.plot(kind='bar', stacked=True, x='bin_score', y)"
   ]
  },
  {
   "cell_type": "code",
   "execution_count": null,
   "metadata": {},
   "outputs": [],
   "source": []
  }
 ],
 "metadata": {
  "kernelspec": {
   "display_name": ".venv",
   "language": "python",
   "name": "python3"
  },
  "language_info": {
   "codemirror_mode": {
    "name": "ipython",
    "version": 3
   },
   "file_extension": ".py",
   "mimetype": "text/x-python",
   "name": "python",
   "nbconvert_exporter": "python",
   "pygments_lexer": "ipython3",
   "version": "3.10.2"
  }
 },
 "nbformat": 4,
 "nbformat_minor": 2
}
